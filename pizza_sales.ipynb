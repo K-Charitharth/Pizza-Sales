{
 "cells": [
  {
   "cell_type": "code",
   "execution_count": 1,
   "id": "47b7eac5",
   "metadata": {},
   "outputs": [],
   "source": [
    "import pandas as pd"
   ]
  },
  {
   "cell_type": "code",
   "execution_count": 2,
   "id": "33b4ba58",
   "metadata": {},
   "outputs": [],
   "source": [
    "#load all tables\n",
    "df_details = pd.read_csv('data_dictionary.csv')\n",
    "df_pizza = pd.read_csv('pizzas.csv')\n",
    "df_orders = pd.read_csv('orders.csv')\n",
    "df_pizza_types = pd.read_csv('pizza_types.csv',encoding='WINDOWS-1250')\n",
    "df_order_details = pd.read_csv('order_details.csv')"
   ]
  },
  {
   "cell_type": "code",
   "execution_count": 3,
   "id": "5c4fc758",
   "metadata": {},
   "outputs": [
    {
     "data": {
      "text/html": [
       "<div>\n",
       "<style scoped>\n",
       "    .dataframe tbody tr th:only-of-type {\n",
       "        vertical-align: middle;\n",
       "    }\n",
       "\n",
       "    .dataframe tbody tr th {\n",
       "        vertical-align: top;\n",
       "    }\n",
       "\n",
       "    .dataframe thead th {\n",
       "        text-align: right;\n",
       "    }\n",
       "</style>\n",
       "<table border=\"1\" class=\"dataframe\">\n",
       "  <thead>\n",
       "    <tr style=\"text-align: right;\">\n",
       "      <th></th>\n",
       "      <th>order_id</th>\n",
       "      <th>date</th>\n",
       "      <th>time</th>\n",
       "      <th>order_details_id</th>\n",
       "      <th>pizza_id</th>\n",
       "      <th>quantity</th>\n",
       "      <th>pizza_type_id</th>\n",
       "      <th>size</th>\n",
       "      <th>price</th>\n",
       "      <th>name</th>\n",
       "      <th>category</th>\n",
       "      <th>ingredients</th>\n",
       "    </tr>\n",
       "  </thead>\n",
       "  <tbody>\n",
       "    <tr>\n",
       "      <th>0</th>\n",
       "      <td>1</td>\n",
       "      <td>2015-01-01</td>\n",
       "      <td>11:38:36</td>\n",
       "      <td>1</td>\n",
       "      <td>hawaiian_m</td>\n",
       "      <td>1</td>\n",
       "      <td>hawaiian</td>\n",
       "      <td>M</td>\n",
       "      <td>13.25</td>\n",
       "      <td>The Hawaiian Pizza</td>\n",
       "      <td>Classic</td>\n",
       "      <td>Sliced Ham, Pineapple, Mozzarella Cheese</td>\n",
       "    </tr>\n",
       "    <tr>\n",
       "      <th>1</th>\n",
       "      <td>77</td>\n",
       "      <td>2015-01-02</td>\n",
       "      <td>12:22:46</td>\n",
       "      <td>179</td>\n",
       "      <td>hawaiian_m</td>\n",
       "      <td>1</td>\n",
       "      <td>hawaiian</td>\n",
       "      <td>M</td>\n",
       "      <td>13.25</td>\n",
       "      <td>The Hawaiian Pizza</td>\n",
       "      <td>Classic</td>\n",
       "      <td>Sliced Ham, Pineapple, Mozzarella Cheese</td>\n",
       "    </tr>\n",
       "    <tr>\n",
       "      <th>2</th>\n",
       "      <td>146</td>\n",
       "      <td>2015-01-03</td>\n",
       "      <td>14:22:10</td>\n",
       "      <td>357</td>\n",
       "      <td>hawaiian_m</td>\n",
       "      <td>1</td>\n",
       "      <td>hawaiian</td>\n",
       "      <td>M</td>\n",
       "      <td>13.25</td>\n",
       "      <td>The Hawaiian Pizza</td>\n",
       "      <td>Classic</td>\n",
       "      <td>Sliced Ham, Pineapple, Mozzarella Cheese</td>\n",
       "    </tr>\n",
       "    <tr>\n",
       "      <th>3</th>\n",
       "      <td>163</td>\n",
       "      <td>2015-01-03</td>\n",
       "      <td>16:54:54</td>\n",
       "      <td>389</td>\n",
       "      <td>hawaiian_m</td>\n",
       "      <td>1</td>\n",
       "      <td>hawaiian</td>\n",
       "      <td>M</td>\n",
       "      <td>13.25</td>\n",
       "      <td>The Hawaiian Pizza</td>\n",
       "      <td>Classic</td>\n",
       "      <td>Sliced Ham, Pineapple, Mozzarella Cheese</td>\n",
       "    </tr>\n",
       "    <tr>\n",
       "      <th>4</th>\n",
       "      <td>247</td>\n",
       "      <td>2015-01-04</td>\n",
       "      <td>20:55:29</td>\n",
       "      <td>568</td>\n",
       "      <td>hawaiian_m</td>\n",
       "      <td>1</td>\n",
       "      <td>hawaiian</td>\n",
       "      <td>M</td>\n",
       "      <td>13.25</td>\n",
       "      <td>The Hawaiian Pizza</td>\n",
       "      <td>Classic</td>\n",
       "      <td>Sliced Ham, Pineapple, Mozzarella Cheese</td>\n",
       "    </tr>\n",
       "  </tbody>\n",
       "</table>\n",
       "</div>"
      ],
      "text/plain": [
       "   order_id        date      time  order_details_id    pizza_id  quantity  \\\n",
       "0         1  2015-01-01  11:38:36                 1  hawaiian_m         1   \n",
       "1        77  2015-01-02  12:22:46               179  hawaiian_m         1   \n",
       "2       146  2015-01-03  14:22:10               357  hawaiian_m         1   \n",
       "3       163  2015-01-03  16:54:54               389  hawaiian_m         1   \n",
       "4       247  2015-01-04  20:55:29               568  hawaiian_m         1   \n",
       "\n",
       "  pizza_type_id size  price                name category  \\\n",
       "0      hawaiian    M  13.25  The Hawaiian Pizza  Classic   \n",
       "1      hawaiian    M  13.25  The Hawaiian Pizza  Classic   \n",
       "2      hawaiian    M  13.25  The Hawaiian Pizza  Classic   \n",
       "3      hawaiian    M  13.25  The Hawaiian Pizza  Classic   \n",
       "4      hawaiian    M  13.25  The Hawaiian Pizza  Classic   \n",
       "\n",
       "                                ingredients  \n",
       "0  Sliced Ham, Pineapple, Mozzarella Cheese  \n",
       "1  Sliced Ham, Pineapple, Mozzarella Cheese  \n",
       "2  Sliced Ham, Pineapple, Mozzarella Cheese  \n",
       "3  Sliced Ham, Pineapple, Mozzarella Cheese  \n",
       "4  Sliced Ham, Pineapple, Mozzarella Cheese  "
      ]
     },
     "execution_count": 3,
     "metadata": {},
     "output_type": "execute_result"
    }
   ],
   "source": [
    "#Joining the tables using merge based on details df\n",
    "df_details\n",
    "df_order_merged = pd.merge(df_orders,df_order_details,on='order_id')\n",
    "df_pizza_merged = pd.merge(df_pizza,df_pizza_types,on='pizza_type_id')\n",
    "df_full = pd.merge(df_order_merged,df_pizza_merged,on='pizza_id')\n",
    "df_full.head()"
   ]
  },
  {
   "cell_type": "code",
   "execution_count": 4,
   "id": "d936ed6e",
   "metadata": {},
   "outputs": [
    {
     "name": "stdout",
     "output_type": "stream",
     "text": [
      "<class 'pandas.core.frame.DataFrame'>\n",
      "Int64Index: 48620 entries, 0 to 48619\n",
      "Data columns (total 12 columns):\n",
      " #   Column            Non-Null Count  Dtype  \n",
      "---  ------            --------------  -----  \n",
      " 0   order_id          48620 non-null  int64  \n",
      " 1   date              48620 non-null  object \n",
      " 2   time              48620 non-null  object \n",
      " 3   order_details_id  48620 non-null  int64  \n",
      " 4   pizza_id          48620 non-null  object \n",
      " 5   quantity          48620 non-null  int64  \n",
      " 6   pizza_type_id     48620 non-null  object \n",
      " 7   size              48620 non-null  object \n",
      " 8   price             48620 non-null  float64\n",
      " 9   name              48620 non-null  object \n",
      " 10  category          48620 non-null  object \n",
      " 11  ingredients       48620 non-null  object \n",
      "dtypes: float64(1), int64(3), object(8)\n",
      "memory usage: 4.8+ MB\n"
     ]
    }
   ],
   "source": [
    "df_full.info()"
   ]
  },
  {
   "cell_type": "code",
   "execution_count": 5,
   "id": "51ca64f8",
   "metadata": {},
   "outputs": [],
   "source": [
    "#orderID is related to one person we will set it as index\n",
    "df_full.set_index('order_id',inplace=True)"
   ]
  },
  {
   "cell_type": "code",
   "execution_count": 6,
   "id": "7e99500c",
   "metadata": {},
   "outputs": [],
   "source": [
    "df_full.sort_index(inplace=True)"
   ]
  },
  {
   "cell_type": "code",
   "execution_count": 7,
   "id": "1763e9b1",
   "metadata": {},
   "outputs": [
    {
     "data": {
      "text/html": [
       "<div>\n",
       "<style scoped>\n",
       "    .dataframe tbody tr th:only-of-type {\n",
       "        vertical-align: middle;\n",
       "    }\n",
       "\n",
       "    .dataframe tbody tr th {\n",
       "        vertical-align: top;\n",
       "    }\n",
       "\n",
       "    .dataframe thead th {\n",
       "        text-align: right;\n",
       "    }\n",
       "</style>\n",
       "<table border=\"1\" class=\"dataframe\">\n",
       "  <thead>\n",
       "    <tr style=\"text-align: right;\">\n",
       "      <th></th>\n",
       "      <th>date</th>\n",
       "      <th>time</th>\n",
       "      <th>order_details_id</th>\n",
       "      <th>pizza_id</th>\n",
       "      <th>quantity</th>\n",
       "      <th>pizza_type_id</th>\n",
       "      <th>size</th>\n",
       "      <th>price</th>\n",
       "      <th>name</th>\n",
       "      <th>category</th>\n",
       "      <th>ingredients</th>\n",
       "    </tr>\n",
       "    <tr>\n",
       "      <th>order_id</th>\n",
       "      <th></th>\n",
       "      <th></th>\n",
       "      <th></th>\n",
       "      <th></th>\n",
       "      <th></th>\n",
       "      <th></th>\n",
       "      <th></th>\n",
       "      <th></th>\n",
       "      <th></th>\n",
       "      <th></th>\n",
       "      <th></th>\n",
       "    </tr>\n",
       "  </thead>\n",
       "  <tbody>\n",
       "    <tr>\n",
       "      <th>1</th>\n",
       "      <td>2015-01-01</td>\n",
       "      <td>11:38:36</td>\n",
       "      <td>1</td>\n",
       "      <td>hawaiian_m</td>\n",
       "      <td>1</td>\n",
       "      <td>hawaiian</td>\n",
       "      <td>M</td>\n",
       "      <td>13.25</td>\n",
       "      <td>The Hawaiian Pizza</td>\n",
       "      <td>Classic</td>\n",
       "      <td>Sliced Ham, Pineapple, Mozzarella Cheese</td>\n",
       "    </tr>\n",
       "    <tr>\n",
       "      <th>2</th>\n",
       "      <td>2015-01-01</td>\n",
       "      <td>11:57:40</td>\n",
       "      <td>6</td>\n",
       "      <td>thai_ckn_l</td>\n",
       "      <td>1</td>\n",
       "      <td>thai_ckn</td>\n",
       "      <td>L</td>\n",
       "      <td>20.75</td>\n",
       "      <td>The Thai Chicken Pizza</td>\n",
       "      <td>Chicken</td>\n",
       "      <td>Chicken, Pineapple, Tomatoes, Red Peppers, Tha...</td>\n",
       "    </tr>\n",
       "    <tr>\n",
       "      <th>2</th>\n",
       "      <td>2015-01-01</td>\n",
       "      <td>11:57:40</td>\n",
       "      <td>5</td>\n",
       "      <td>mexicana_m</td>\n",
       "      <td>1</td>\n",
       "      <td>mexicana</td>\n",
       "      <td>M</td>\n",
       "      <td>16.00</td>\n",
       "      <td>The Mexicana Pizza</td>\n",
       "      <td>Veggie</td>\n",
       "      <td>Tomatoes, Red Peppers, Jalapeno Peppers, Red O...</td>\n",
       "    </tr>\n",
       "    <tr>\n",
       "      <th>2</th>\n",
       "      <td>2015-01-01</td>\n",
       "      <td>11:57:40</td>\n",
       "      <td>4</td>\n",
       "      <td>ital_supr_l</td>\n",
       "      <td>1</td>\n",
       "      <td>ital_supr</td>\n",
       "      <td>L</td>\n",
       "      <td>20.75</td>\n",
       "      <td>The Italian Supreme Pizza</td>\n",
       "      <td>Supreme</td>\n",
       "      <td>Calabrese Salami, Capocollo, Tomatoes, Red Oni...</td>\n",
       "    </tr>\n",
       "    <tr>\n",
       "      <th>2</th>\n",
       "      <td>2015-01-01</td>\n",
       "      <td>11:57:40</td>\n",
       "      <td>3</td>\n",
       "      <td>five_cheese_l</td>\n",
       "      <td>1</td>\n",
       "      <td>five_cheese</td>\n",
       "      <td>L</td>\n",
       "      <td>18.50</td>\n",
       "      <td>The Five Cheese Pizza</td>\n",
       "      <td>Veggie</td>\n",
       "      <td>Mozzarella Cheese, Provolone Cheese, Smoked Go...</td>\n",
       "    </tr>\n",
       "    <tr>\n",
       "      <th>...</th>\n",
       "      <td>...</td>\n",
       "      <td>...</td>\n",
       "      <td>...</td>\n",
       "      <td>...</td>\n",
       "      <td>...</td>\n",
       "      <td>...</td>\n",
       "      <td>...</td>\n",
       "      <td>...</td>\n",
       "      <td>...</td>\n",
       "      <td>...</td>\n",
       "      <td>...</td>\n",
       "    </tr>\n",
       "    <tr>\n",
       "      <th>21348</th>\n",
       "      <td>2015-12-31</td>\n",
       "      <td>21:23:10</td>\n",
       "      <td>48618</td>\n",
       "      <td>napolitana_s</td>\n",
       "      <td>1</td>\n",
       "      <td>napolitana</td>\n",
       "      <td>S</td>\n",
       "      <td>12.00</td>\n",
       "      <td>The Napolitana Pizza</td>\n",
       "      <td>Classic</td>\n",
       "      <td>Tomatoes, Anchovies, Green Olives, Red Onions,...</td>\n",
       "    </tr>\n",
       "    <tr>\n",
       "      <th>21348</th>\n",
       "      <td>2015-12-31</td>\n",
       "      <td>21:23:10</td>\n",
       "      <td>48617</td>\n",
       "      <td>four_cheese_l</td>\n",
       "      <td>1</td>\n",
       "      <td>four_cheese</td>\n",
       "      <td>L</td>\n",
       "      <td>17.95</td>\n",
       "      <td>The Four Cheese Pizza</td>\n",
       "      <td>Veggie</td>\n",
       "      <td>Ricotta Cheese, Gorgonzola Piccante Cheese, Mo...</td>\n",
       "    </tr>\n",
       "    <tr>\n",
       "      <th>21348</th>\n",
       "      <td>2015-12-31</td>\n",
       "      <td>21:23:10</td>\n",
       "      <td>48616</td>\n",
       "      <td>ckn_alfredo_m</td>\n",
       "      <td>1</td>\n",
       "      <td>ckn_alfredo</td>\n",
       "      <td>M</td>\n",
       "      <td>16.75</td>\n",
       "      <td>The Chicken Alfredo Pizza</td>\n",
       "      <td>Chicken</td>\n",
       "      <td>Chicken, Red Onions, Red Peppers, Mushrooms, A...</td>\n",
       "    </tr>\n",
       "    <tr>\n",
       "      <th>21349</th>\n",
       "      <td>2015-12-31</td>\n",
       "      <td>22:09:54</td>\n",
       "      <td>48619</td>\n",
       "      <td>mexicana_l</td>\n",
       "      <td>1</td>\n",
       "      <td>mexicana</td>\n",
       "      <td>L</td>\n",
       "      <td>20.25</td>\n",
       "      <td>The Mexicana Pizza</td>\n",
       "      <td>Veggie</td>\n",
       "      <td>Tomatoes, Red Peppers, Jalapeno Peppers, Red O...</td>\n",
       "    </tr>\n",
       "    <tr>\n",
       "      <th>21350</th>\n",
       "      <td>2015-12-31</td>\n",
       "      <td>23:02:05</td>\n",
       "      <td>48620</td>\n",
       "      <td>bbq_ckn_s</td>\n",
       "      <td>1</td>\n",
       "      <td>bbq_ckn</td>\n",
       "      <td>S</td>\n",
       "      <td>12.75</td>\n",
       "      <td>The Barbecue Chicken Pizza</td>\n",
       "      <td>Chicken</td>\n",
       "      <td>Barbecued Chicken, Red Peppers, Green Peppers,...</td>\n",
       "    </tr>\n",
       "  </tbody>\n",
       "</table>\n",
       "<p>48620 rows × 11 columns</p>\n",
       "</div>"
      ],
      "text/plain": [
       "                date      time  order_details_id       pizza_id  quantity  \\\n",
       "order_id                                                                    \n",
       "1         2015-01-01  11:38:36                 1     hawaiian_m         1   \n",
       "2         2015-01-01  11:57:40                 6     thai_ckn_l         1   \n",
       "2         2015-01-01  11:57:40                 5     mexicana_m         1   \n",
       "2         2015-01-01  11:57:40                 4    ital_supr_l         1   \n",
       "2         2015-01-01  11:57:40                 3  five_cheese_l         1   \n",
       "...              ...       ...               ...            ...       ...   \n",
       "21348     2015-12-31  21:23:10             48618   napolitana_s         1   \n",
       "21348     2015-12-31  21:23:10             48617  four_cheese_l         1   \n",
       "21348     2015-12-31  21:23:10             48616  ckn_alfredo_m         1   \n",
       "21349     2015-12-31  22:09:54             48619     mexicana_l         1   \n",
       "21350     2015-12-31  23:02:05             48620      bbq_ckn_s         1   \n",
       "\n",
       "         pizza_type_id size  price                        name category  \\\n",
       "order_id                                                                  \n",
       "1             hawaiian    M  13.25          The Hawaiian Pizza  Classic   \n",
       "2             thai_ckn    L  20.75      The Thai Chicken Pizza  Chicken   \n",
       "2             mexicana    M  16.00          The Mexicana Pizza   Veggie   \n",
       "2            ital_supr    L  20.75   The Italian Supreme Pizza  Supreme   \n",
       "2          five_cheese    L  18.50       The Five Cheese Pizza   Veggie   \n",
       "...                ...  ...    ...                         ...      ...   \n",
       "21348       napolitana    S  12.00        The Napolitana Pizza  Classic   \n",
       "21348      four_cheese    L  17.95       The Four Cheese Pizza   Veggie   \n",
       "21348      ckn_alfredo    M  16.75   The Chicken Alfredo Pizza  Chicken   \n",
       "21349         mexicana    L  20.25          The Mexicana Pizza   Veggie   \n",
       "21350          bbq_ckn    S  12.75  The Barbecue Chicken Pizza  Chicken   \n",
       "\n",
       "                                                ingredients  \n",
       "order_id                                                     \n",
       "1                  Sliced Ham, Pineapple, Mozzarella Cheese  \n",
       "2         Chicken, Pineapple, Tomatoes, Red Peppers, Tha...  \n",
       "2         Tomatoes, Red Peppers, Jalapeno Peppers, Red O...  \n",
       "2         Calabrese Salami, Capocollo, Tomatoes, Red Oni...  \n",
       "2         Mozzarella Cheese, Provolone Cheese, Smoked Go...  \n",
       "...                                                     ...  \n",
       "21348     Tomatoes, Anchovies, Green Olives, Red Onions,...  \n",
       "21348     Ricotta Cheese, Gorgonzola Piccante Cheese, Mo...  \n",
       "21348     Chicken, Red Onions, Red Peppers, Mushrooms, A...  \n",
       "21349     Tomatoes, Red Peppers, Jalapeno Peppers, Red O...  \n",
       "21350     Barbecued Chicken, Red Peppers, Green Peppers,...  \n",
       "\n",
       "[48620 rows x 11 columns]"
      ]
     },
     "execution_count": 7,
     "metadata": {},
     "output_type": "execute_result"
    }
   ],
   "source": [
    "df_full"
   ]
  },
  {
   "cell_type": "code",
   "execution_count": 8,
   "id": "d3fb2c59",
   "metadata": {},
   "outputs": [
    {
     "data": {
      "text/plain": [
       "order_id\n",
       "1        13.25\n",
       "2        20.75\n",
       "2        16.00\n",
       "2        20.75\n",
       "2        18.50\n",
       "         ...  \n",
       "21348    12.00\n",
       "21348    17.95\n",
       "21348    16.75\n",
       "21349    20.25\n",
       "21350    12.75\n",
       "Name: total_cost, Length: 48620, dtype: float64"
      ]
     },
     "execution_count": 8,
     "metadata": {},
     "output_type": "execute_result"
    }
   ],
   "source": [
    "#Create new column total cost based on quantity\n",
    "df_full['total_cost'] = df_full.apply(lambda x:x['quantity']*x['price'],axis=1)#axis 1 make sure to adds up the row based series\n",
    "df_full['total_cost']"
   ]
  },
  {
   "cell_type": "code",
   "execution_count": 9,
   "id": "582ccc8b",
   "metadata": {},
   "outputs": [
    {
     "data": {
      "text/plain": [
       "order_id\n",
       "18845    444.20\n",
       "10760    417.15\n",
       "1096     285.15\n",
       "6169     284.00\n",
       "740      280.95\n",
       "          ...  \n",
       "2822       9.75\n",
       "17702      9.75\n",
       "17420      9.75\n",
       "13404      9.75\n",
       "10950      9.75\n",
       "Name: total_cost, Length: 21350, dtype: float64"
      ]
     },
     "execution_count": 9,
     "metadata": {},
     "output_type": "execute_result"
    }
   ],
   "source": [
    "#groupby ordered id of bill\n",
    "df_full.groupby('order_id')['total_cost'].sum().sort_values(ascending=False)#It results in order Id which has yielded more based on price"
   ]
  },
  {
   "cell_type": "code",
   "execution_count": 10,
   "id": "8b8a7e6e",
   "metadata": {},
   "outputs": [
    {
     "data": {
      "text/plain": [
       "[' Artichoke',\n",
       " 'Ricotta Cheese',\n",
       " 'Sliced Ham',\n",
       " 'Tomatoes',\n",
       " ' Barbecue Sauce',\n",
       " ' Provolone Cheese',\n",
       " ' Bacon',\n",
       " ' Anchovies',\n",
       " 'Kalamata Olives',\n",
       " ' Pepperoni',\n",
       " ' Romano Cheese',\n",
       " ' Peperoncini verdi',\n",
       " ' Blue Cheese',\n",
       " ' Zucchini',\n",
       " ' Feta Cheese',\n",
       " ' Caramelized Onions',\n",
       " ' Mozzarella Cheese',\n",
       " ' Goat Cheese',\n",
       " ' Oregano',\n",
       " 'Spinach',\n",
       " 'Mushrooms',\n",
       " ' Pesto Sauce',\n",
       " '‘Nduja Salami',\n",
       " 'Eggplant',\n",
       " ' Thyme',\n",
       " ' Green Peppers',\n",
       " 'Mozzarella Cheese',\n",
       " ' Chorizo Sausage',\n",
       " 'Calabrese Salami',\n",
       " ' Artichokes',\n",
       " 'Coarse Sicilian Salami',\n",
       " 'Genoa Salami',\n",
       " ' Alfredo Sauce',\n",
       " ' Garlic',\n",
       " ' Green Olives',\n",
       " 'Capocollo',\n",
       " ' Arugula',\n",
       " ' Pineapple',\n",
       " ' Spinach',\n",
       " ' Chipotle Sauce',\n",
       " ' Gorgonzola Piccante Cheese',\n",
       " ' Thai Sweet Chilli Sauce',\n",
       " ' Mushrooms',\n",
       " ' Tomatoes',\n",
       " 'Brie Carre Cheese',\n",
       " ' Luganega Sausage',\n",
       " ' Prosciutto',\n",
       " ' Fontina Cheese',\n",
       " ' Smoked Gouda Cheese',\n",
       " ' Kalamata Olives',\n",
       " 'Pepperoni',\n",
       " 'Soppressata Salami',\n",
       " ' Red Onions',\n",
       " 'Prosciutto di San Daniele',\n",
       " 'Barbecued Chicken',\n",
       " ' Onions',\n",
       " ' Jalapeno Peppers',\n",
       " ' Friggitello Peppers',\n",
       " ' Capocollo',\n",
       " 'Bacon',\n",
       " ' Gouda Cheese',\n",
       " ' Corn',\n",
       " ' Pears',\n",
       " ' Beef Chuck Roast',\n",
       " ' Red Peppers',\n",
       " ' Asiago Cheese',\n",
       " ' Italian Sausage',\n",
       " ' Cilantro',\n",
       " ' Sun-dried Tomatoes',\n",
       " ' Parmigiano Reggiano Cheese',\n",
       " ' Pancetta',\n",
       " ' Plum Tomatoes',\n",
       " 'Chicken']"
      ]
     },
     "execution_count": 10,
     "metadata": {},
     "output_type": "execute_result"
    }
   ],
   "source": [
    "#List of ingredients available\n",
    "ls = []\n",
    "for i in df_full['ingredients']:\n",
    "    ls.extend(str(i).split(','))\n",
    "list(set(ls))"
   ]
  },
  {
   "cell_type": "code",
   "execution_count": 11,
   "id": "8e186c6b",
   "metadata": {},
   "outputs": [
    {
     "data": {
      "text/plain": [
       "order_id\n",
       "2        Tomatoes, Red Peppers, Jalapeno Peppers, Red O...\n",
       "2        Calabrese Salami, Capocollo, Tomatoes, Red Oni...\n",
       "2        Pepperoni, Mushrooms, Red Onions, Red Peppers,...\n",
       "3        Calabrese Salami, Capocollo, Tomatoes, Red Oni...\n",
       "4        Calabrese Salami, Capocollo, Tomatoes, Red Oni...\n",
       "                               ...                        \n",
       "21347    Calabrese Salami, Capocollo, Tomatoes, Red Oni...\n",
       "21348    Tomatoes, Anchovies, Green Olives, Red Onions,...\n",
       "21348    Chicken, Red Onions, Red Peppers, Mushrooms, A...\n",
       "21349    Tomatoes, Red Peppers, Jalapeno Peppers, Red O...\n",
       "21350    Barbecued Chicken, Red Peppers, Green Peppers,...\n",
       "Name: ingredients, Length: 21914, dtype: object"
      ]
     },
     "execution_count": 11,
     "metadata": {},
     "output_type": "execute_result"
    }
   ],
   "source": [
    "#legts filter mask based on ingredient you dont want in your pizza\n",
    "#suppose you dont like onions\n",
    "filt = df_full['ingredients'].str.contains('onion',case=False)\n",
    "df_full.loc[filt,'ingredients']"
   ]
  },
  {
   "cell_type": "code",
   "execution_count": 12,
   "id": "a781ea7b",
   "metadata": {},
   "outputs": [
    {
     "data": {
      "text/plain": [
       "L      18526\n",
       "M      15385\n",
       "S      14137\n",
       "XL       544\n",
       "XXL       28\n",
       "Name: size, dtype: int64"
      ]
     },
     "execution_count": 12,
     "metadata": {},
     "output_type": "execute_result"
    }
   ],
   "source": [
    "#CHeck the mostselled size of pizzas\n",
    "df_full['size'].value_counts()\n"
   ]
  },
  {
   "cell_type": "code",
   "execution_count": 13,
   "id": "20130a99",
   "metadata": {},
   "outputs": [
    {
     "data": {
      "text/plain": [
       "Classic    14579\n",
       "Supreme    11777\n",
       "Veggie     11449\n",
       "Chicken    10815\n",
       "Name: category, dtype: int64"
      ]
     },
     "execution_count": 13,
     "metadata": {},
     "output_type": "execute_result"
    }
   ],
   "source": [
    "#Check types of category\n",
    "df_full['category'].value_counts()"
   ]
  },
  {
   "cell_type": "code",
   "execution_count": 14,
   "id": "063bcc60",
   "metadata": {},
   "outputs": [
    {
     "data": {
      "text/plain": [
       "category  size\n",
       "Chicken   L        99579.25\n",
       "          M        63834.25\n",
       "          S        28113.75\n",
       "Classic   L        73268.50\n",
       "          M        59619.75\n",
       "          S        67965.75\n",
       "          XL       13872.00\n",
       "          XXL       1006.60\n",
       "Supreme   L        92462.75\n",
       "          M        65342.00\n",
       "          S        46682.00\n",
       "Veggie    L       101551.60\n",
       "          M        56613.50\n",
       "          S        32033.00\n",
       "Name: price, dtype: float64"
      ]
     },
     "execution_count": 14,
     "metadata": {},
     "output_type": "execute_result"
    }
   ],
   "source": [
    "#groupby category and size\n",
    "df_full.groupby(['category','size'])['price'].sum()\n",
    "#This gives some insights like sizes of XL and XXL were ordered only from classic category and veggie L category was most popular pizza"
   ]
  },
  {
   "cell_type": "code",
   "execution_count": 15,
   "id": "9e9d94c1",
   "metadata": {},
   "outputs": [
    {
     "data": {
      "text/plain": [
       "The Classic Deluxe Pizza      2416\n",
       "The Barbecue Chicken Pizza    2372\n",
       "The Hawaiian Pizza            2370\n",
       "Name: name, dtype: int64"
      ]
     },
     "execution_count": 15,
     "metadata": {},
     "output_type": "execute_result"
    }
   ],
   "source": [
    "#We can check no.of items in menu\n",
    "df_full['name'].nunique()\n",
    "#and no.of.times they have been ordered and top 3\n",
    "df_full['name'].value_counts().head(3)"
   ]
  },
  {
   "cell_type": "code",
   "execution_count": 16,
   "id": "115fa26c",
   "metadata": {},
   "outputs": [],
   "source": [
    "#convert date and time as date time objects\n",
    "df_full['date_time'] = df_full.apply(lambda x:pd.to_datetime(x['date']+' '+x['time']),axis=1)"
   ]
  },
  {
   "cell_type": "code",
   "execution_count": 17,
   "id": "7ff5632a",
   "metadata": {},
   "outputs": [],
   "source": [
    "#drop date and time columns\n",
    "df_full.drop(columns={'date','time'},inplace=True)"
   ]
  },
  {
   "cell_type": "code",
   "execution_count": 18,
   "id": "deac5ca6",
   "metadata": {},
   "outputs": [
    {
     "data": {
      "text/plain": [
       "date_time\n",
       "2015-01-01 11:38:36    13.25\n",
       "2015-01-01 11:57:40    92.00\n",
       "2015-01-01 12:12:28    37.25\n",
       "2015-01-01 12:16:31    16.50\n",
       "2015-01-01 12:21:30    16.50\n",
       "                       ...  \n",
       "2015-12-31 20:51:07    62.25\n",
       "2015-12-31 21:14:37    66.50\n",
       "2015-12-31 21:23:10    46.70\n",
       "2015-12-31 22:09:54    20.25\n",
       "2015-12-31 23:02:05    12.75\n",
       "Name: total_cost, Length: 21350, dtype: float64"
      ]
     },
     "execution_count": 18,
     "metadata": {},
     "output_type": "execute_result"
    }
   ],
   "source": [
    "#we will group using date time and check some analysis\n",
    "df_full.groupby('date_time')['total_cost'].sum()"
   ]
  },
  {
   "cell_type": "code",
   "execution_count": 19,
   "id": "8fbf60a4",
   "metadata": {},
   "outputs": [],
   "source": [
    "#Cant find many insights so lets split date and time again\n",
    "df_full['date'] = df_full['date_time'].dt.date\n",
    "df_full['time'] = df_full['date_time'].dt.time\n",
    "df_full.drop(columns='date_time',inplace=True)"
   ]
  },
  {
   "cell_type": "code",
   "execution_count": 20,
   "id": "ced49e16",
   "metadata": {},
   "outputs": [
    {
     "data": {
      "text/plain": [
       "order_id\n",
       "1        13.250000\n",
       "2        18.400000\n",
       "3        18.625000\n",
       "4        16.500000\n",
       "5        16.500000\n",
       "           ...    \n",
       "21346    15.562500\n",
       "21347    16.625000\n",
       "21348    15.566667\n",
       "21349    20.250000\n",
       "21350    12.750000\n",
       "Name: total_cost, Length: 21350, dtype: float64"
      ]
     },
     "execution_count": 20,
     "metadata": {},
     "output_type": "execute_result"
    }
   ],
   "source": [
    "#we will now group both date and time\n",
    "df_full.groupby(['date','time'])['total_cost'].sum()#It is alternative way to group by and check amount based on order\n",
    "df_full.groupby('order_id')['total_cost'].mean()"
   ]
  },
  {
   "cell_type": "code",
   "execution_count": 21,
   "id": "9ba4996d",
   "metadata": {},
   "outputs": [
    {
     "data": {
      "text/plain": [
       "date\n",
       "2015-11-27    4422.45\n",
       "2015-11-26    4405.95\n",
       "2015-10-15    4320.20\n",
       "2015-07-04    3864.20\n",
       "2015-07-03    3443.00\n",
       "               ...   \n",
       "2015-12-27    1419.00\n",
       "2015-11-22    1368.70\n",
       "2015-12-29    1353.25\n",
       "2015-12-30    1337.80\n",
       "2015-03-22    1259.25\n",
       "Name: total_cost, Length: 358, dtype: float64"
      ]
     },
     "execution_count": 21,
     "metadata": {},
     "output_type": "execute_result"
    }
   ],
   "source": [
    "df_full.groupby('date')['total_cost'].sum().sort_values(ascending=False)"
   ]
  },
  {
   "cell_type": "code",
   "execution_count": 22,
   "id": "cf94e2bd",
   "metadata": {},
   "outputs": [],
   "source": [
    "#I am curious about weekdays so lets a create a column week\n",
    "df_full['week'] = df_full['date'].apply(lambda x:x.strftime('%A'))"
   ]
  },
  {
   "cell_type": "code",
   "execution_count": 23,
   "id": "04db5af2",
   "metadata": {},
   "outputs": [
    {
     "data": {
      "text/plain": [
       "week\n",
       "Friday    136073.9\n",
       "Sunday     99203.5\n",
       "Name: total_cost, dtype: float64"
      ]
     },
     "execution_count": 23,
     "metadata": {},
     "output_type": "execute_result"
    }
   ],
   "source": [
    "df_full.groupby('week')['total_cost'].sum().sort_values(ascending=False).loc[['Friday','Sunday']]#we can conclude friday does the most sales where as sunday does the least\n"
   ]
  },
  {
   "cell_type": "code",
   "execution_count": 24,
   "id": "c7cc4772",
   "metadata": {},
   "outputs": [
    {
     "data": {
      "text/plain": [
       "35.95"
      ]
     },
     "execution_count": 24,
     "metadata": {},
     "output_type": "execute_result"
    }
   ],
   "source": [
    "#costliest pizza on the store\n",
    "df_full['price'].max()"
   ]
  },
  {
   "cell_type": "code",
   "execution_count": 25,
   "id": "0264be27",
   "metadata": {},
   "outputs": [
    {
     "data": {
      "text/html": [
       "<div>\n",
       "<style scoped>\n",
       "    .dataframe tbody tr th:only-of-type {\n",
       "        vertical-align: middle;\n",
       "    }\n",
       "\n",
       "    .dataframe tbody tr th {\n",
       "        vertical-align: top;\n",
       "    }\n",
       "\n",
       "    .dataframe thead th {\n",
       "        text-align: right;\n",
       "    }\n",
       "</style>\n",
       "<table border=\"1\" class=\"dataframe\">\n",
       "  <thead>\n",
       "    <tr style=\"text-align: right;\">\n",
       "      <th></th>\n",
       "      <th>pizza_id</th>\n",
       "      <th>pizza_type_id</th>\n",
       "      <th>size</th>\n",
       "      <th>price</th>\n",
       "      <th>name</th>\n",
       "      <th>category</th>\n",
       "      <th>ingredients</th>\n",
       "    </tr>\n",
       "  </thead>\n",
       "  <tbody>\n",
       "    <tr>\n",
       "      <th>36</th>\n",
       "      <td>pepperoni_s</td>\n",
       "      <td>pepperoni</td>\n",
       "      <td>S</td>\n",
       "      <td>9.75</td>\n",
       "      <td>The Pepperoni Pizza</td>\n",
       "      <td>Classic</td>\n",
       "      <td>Mozzarella Cheese, Pepperoni</td>\n",
       "    </tr>\n",
       "    <tr>\n",
       "      <th>24</th>\n",
       "      <td>hawaiian_s</td>\n",
       "      <td>hawaiian</td>\n",
       "      <td>S</td>\n",
       "      <td>10.50</td>\n",
       "      <td>The Hawaiian Pizza</td>\n",
       "      <td>Classic</td>\n",
       "      <td>Sliced Ham, Pineapple, Mozzarella Cheese</td>\n",
       "    </tr>\n",
       "    <tr>\n",
       "      <th>33</th>\n",
       "      <td>pep_msh_pep_s</td>\n",
       "      <td>pep_msh_pep</td>\n",
       "      <td>S</td>\n",
       "      <td>11.00</td>\n",
       "      <td>The Pepperoni, Mushroom, and Peppers Pizza</td>\n",
       "      <td>Classic</td>\n",
       "      <td>Pepperoni, Mushrooms, Green Peppers</td>\n",
       "    </tr>\n",
       "    <tr>\n",
       "      <th>72</th>\n",
       "      <td>four_cheese_s</td>\n",
       "      <td>four_cheese</td>\n",
       "      <td>S</td>\n",
       "      <td>11.75</td>\n",
       "      <td>The Four Cheese Pizza</td>\n",
       "      <td>Veggie</td>\n",
       "      <td>Ricotta Cheese, Gorgonzola Piccante Cheese, Mo...</td>\n",
       "    </tr>\n",
       "    <tr>\n",
       "      <th>18</th>\n",
       "      <td>big_meat_s</td>\n",
       "      <td>big_meat</td>\n",
       "      <td>S</td>\n",
       "      <td>12.00</td>\n",
       "      <td>The Big Meat Pizza</td>\n",
       "      <td>Classic</td>\n",
       "      <td>Bacon, Pepperoni, Italian Sausage, Chorizo Sau...</td>\n",
       "    </tr>\n",
       "    <tr>\n",
       "      <th>21</th>\n",
       "      <td>classic_dlx_s</td>\n",
       "      <td>classic_dlx</td>\n",
       "      <td>S</td>\n",
       "      <td>12.00</td>\n",
       "      <td>The Classic Deluxe Pizza</td>\n",
       "      <td>Classic</td>\n",
       "      <td>Pepperoni, Mushrooms, Red Onions, Red Peppers,...</td>\n",
       "    </tr>\n",
       "    <tr>\n",
       "      <th>27</th>\n",
       "      <td>ital_cpcllo_s</td>\n",
       "      <td>ital_cpcllo</td>\n",
       "      <td>S</td>\n",
       "      <td>12.00</td>\n",
       "      <td>The Italian Capocollo Pizza</td>\n",
       "      <td>Classic</td>\n",
       "      <td>Capocollo, Red Peppers, Tomatoes, Goat Cheese,...</td>\n",
       "    </tr>\n",
       "    <tr>\n",
       "      <th>30</th>\n",
       "      <td>napolitana_s</td>\n",
       "      <td>napolitana</td>\n",
       "      <td>S</td>\n",
       "      <td>12.00</td>\n",
       "      <td>The Napolitana Pizza</td>\n",
       "      <td>Classic</td>\n",
       "      <td>Tomatoes, Anchovies, Green Olives, Red Onions,...</td>\n",
       "    </tr>\n",
       "    <tr>\n",
       "      <th>39</th>\n",
       "      <td>the_greek_s</td>\n",
       "      <td>the_greek</td>\n",
       "      <td>S</td>\n",
       "      <td>12.00</td>\n",
       "      <td>The Greek Pizza</td>\n",
       "      <td>Classic</td>\n",
       "      <td>Kalamata Olives, Feta Cheese, Tomatoes, Garlic...</td>\n",
       "    </tr>\n",
       "    <tr>\n",
       "      <th>75</th>\n",
       "      <td>green_garden_s</td>\n",
       "      <td>green_garden</td>\n",
       "      <td>S</td>\n",
       "      <td>12.00</td>\n",
       "      <td>The Green Garden Pizza</td>\n",
       "      <td>Veggie</td>\n",
       "      <td>Spinach, Mushrooms, Tomatoes, Green Olives, Fe...</td>\n",
       "    </tr>\n",
       "  </tbody>\n",
       "</table>\n",
       "</div>"
      ],
      "text/plain": [
       "          pizza_id pizza_type_id size  price  \\\n",
       "36     pepperoni_s     pepperoni    S   9.75   \n",
       "24      hawaiian_s      hawaiian    S  10.50   \n",
       "33   pep_msh_pep_s   pep_msh_pep    S  11.00   \n",
       "72   four_cheese_s   four_cheese    S  11.75   \n",
       "18      big_meat_s      big_meat    S  12.00   \n",
       "21   classic_dlx_s   classic_dlx    S  12.00   \n",
       "27   ital_cpcllo_s   ital_cpcllo    S  12.00   \n",
       "30    napolitana_s    napolitana    S  12.00   \n",
       "39     the_greek_s     the_greek    S  12.00   \n",
       "75  green_garden_s  green_garden    S  12.00   \n",
       "\n",
       "                                          name category  \\\n",
       "36                         The Pepperoni Pizza  Classic   \n",
       "24                          The Hawaiian Pizza  Classic   \n",
       "33  The Pepperoni, Mushroom, and Peppers Pizza  Classic   \n",
       "72                       The Four Cheese Pizza   Veggie   \n",
       "18                          The Big Meat Pizza  Classic   \n",
       "21                    The Classic Deluxe Pizza  Classic   \n",
       "27                 The Italian Capocollo Pizza  Classic   \n",
       "30                        The Napolitana Pizza  Classic   \n",
       "39                             The Greek Pizza  Classic   \n",
       "75                      The Green Garden Pizza   Veggie   \n",
       "\n",
       "                                          ingredients  \n",
       "36                       Mozzarella Cheese, Pepperoni  \n",
       "24           Sliced Ham, Pineapple, Mozzarella Cheese  \n",
       "33                Pepperoni, Mushrooms, Green Peppers  \n",
       "72  Ricotta Cheese, Gorgonzola Piccante Cheese, Mo...  \n",
       "18  Bacon, Pepperoni, Italian Sausage, Chorizo Sau...  \n",
       "21  Pepperoni, Mushrooms, Red Onions, Red Peppers,...  \n",
       "27  Capocollo, Red Peppers, Tomatoes, Goat Cheese,...  \n",
       "30  Tomatoes, Anchovies, Green Olives, Red Onions,...  \n",
       "39  Kalamata Olives, Feta Cheese, Tomatoes, Garlic...  \n",
       "75  Spinach, Mushrooms, Tomatoes, Green Olives, Fe...  "
      ]
     },
     "execution_count": 25,
     "metadata": {},
     "output_type": "execute_result"
    }
   ],
   "source": [
    "#nlargest,nsmallest\n",
    "df_pizza_merged.nlargest(10,'price')\n",
    "df_pizza_merged.nsmallest(10,'price')"
   ]
  },
  {
   "cell_type": "code",
   "execution_count": 26,
   "id": "2196abab",
   "metadata": {},
   "outputs": [
    {
     "data": {
      "text/plain": [
       "The Classic Deluxe Pizza                      0.049691\n",
       "The Barbecue Chicken Pizza                    0.048787\n",
       "The Hawaiian Pizza                            0.048745\n",
       "The Pepperoni Pizza                           0.048725\n",
       "The Thai Chicken Pizza                        0.047614\n",
       "The California Chicken Pizza                  0.047347\n",
       "The Sicilian Pizza                            0.038811\n",
       "The Spicy Italian Pizza                       0.038811\n",
       "The Southwest Chicken Pizza                   0.038770\n",
       "The Four Cheese Pizza                         0.038050\n",
       "The Italian Supreme Pizza                     0.038030\n",
       "The Big Meat Pizza                            0.037248\n",
       "The Vegetables + Vegetables Pizza             0.031057\n",
       "The Mexicana Pizza                            0.029947\n",
       "The Napolitana Pizza                          0.029844\n",
       "The Spinach and Feta Pizza                    0.029453\n",
       "The Prosciutto and Arugula Pizza              0.029371\n",
       "The Pepper Salami Pizza                       0.029247\n",
       "The Italian Capocollo Pizza                   0.029083\n",
       "The Greek Pizza                               0.028918\n",
       "The Five Cheese Pizza                         0.027951\n",
       "The Pepperoni, Mushroom, and Peppers Pizza    0.027602\n",
       "The Green Garden Pizza                        0.020300\n",
       "The Chicken Alfredo Pizza                     0.020156\n",
       "The Italian Vegetables Pizza                  0.020053\n",
       "The Chicken Pesto Pizza                       0.019766\n",
       "The Soppressata Pizza                         0.019683\n",
       "The Spinach Pesto Pizza                       0.019683\n",
       "The Spinach Supreme Pizza                     0.019334\n",
       "The Calabrese Pizza                           0.019066\n",
       "The Mediterranean Pizza                       0.018984\n",
       "The Brie Carre Pizza                          0.009872\n",
       "Name: name, dtype: float64"
      ]
     },
     "execution_count": 26,
     "metadata": {},
     "output_type": "execute_result"
    }
   ],
   "source": [
    "df_full['name'].value_counts(normalize=True)"
   ]
  },
  {
   "cell_type": "code",
   "execution_count": null,
   "id": "7b71a457",
   "metadata": {},
   "outputs": [],
   "source": []
  }
 ],
 "metadata": {
  "kernelspec": {
   "display_name": "Python 3 (ipykernel)",
   "language": "python",
   "name": "python3"
  },
  "language_info": {
   "codemirror_mode": {
    "name": "ipython",
    "version": 3
   },
   "file_extension": ".py",
   "mimetype": "text/x-python",
   "name": "python",
   "nbconvert_exporter": "python",
   "pygments_lexer": "ipython3",
   "version": "3.9.7"
  }
 },
 "nbformat": 4,
 "nbformat_minor": 5
}
